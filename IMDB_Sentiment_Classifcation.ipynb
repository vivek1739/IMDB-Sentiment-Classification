{
  "nbformat": 4,
  "nbformat_minor": 0,
  "metadata": {
    "colab": {
      "name": "51.A IMDB Sentiment Classifcation.ipynb",
      "version": "0.3.2",
      "views": {},
      "default_view": {},
      "provenance": [],
      "collapsed_sections": []
    },
    "kernelspec": {
      "display_name": "Python 3",
      "language": "python",
      "name": "python3"
    },
    "accelerator": "GPU"
  },
  "cells": [
    {
      "metadata": {
        "id": "5Lw6Yz1_p0En",
        "colab_type": "text"
      },
      "cell_type": "markdown",
      "source": [
        "### Intro\n",
        "- LSTM are tricky to get them to work"
      ]
    },
    {
      "metadata": {
        "id": "krZK1T83p0Eq",
        "colab_type": "code",
        "colab": {
          "autoexec": {
            "startup": false,
            "wait_interval": 0
          }
        }
      },
      "cell_type": "code",
      "source": [
        "import numpy\n",
        "from keras.datasets import imdb\n",
        "from keras.models import Sequential\n",
        "from keras.layers import Dense, LSTM\n",
        "from keras.layers.embeddings import Embedding\n",
        "from keras.preprocessing import sequence\n"
      ],
      "execution_count": 0,
      "outputs": []
    },
    {
      "metadata": {
        "id": "HpDizHVWp0Ey",
        "colab_type": "code",
        "colab": {
          "autoexec": {
            "startup": false,
            "wait_interval": 0
          },
          "base_uri": "https://localhost:8080/",
          "height": 105
        },
        "outputId": "0ae9d8ee-cdd1-4a66-e288-ceda7bc1bf28",
        "executionInfo": {
          "status": "ok",
          "timestamp": 1532425129012,
          "user_tz": -330,
          "elapsed": 9660,
          "user": {
            "displayName": "Vivek Kumar",
            "photoUrl": "//lh6.googleusercontent.com/-M_uuoLvcedc/AAAAAAAAAAI/AAAAAAAAASo/dW13zAextDg/s50-c-k-no/photo.jpg",
            "userId": "112122627751315204755"
          }
        }
      },
      "cell_type": "code",
      "source": [
        "# Credits: https://machinelearningmastery.com/sequence-classification-lstm-recurrent-neural-networks-python-keras/\n",
        "# Refer: https://keras.io/datasets/#imdb-movie-reviews-sentiment-classification\n",
        "# load the dataset but only keep the top n words, zero the rest\n",
        "top_words = 5000\n",
        "(X_train, y_train), (X_test, y_test) = imdb.load_data(nb_words = top_words)\n"
      ],
      "execution_count": 5,
      "outputs": [
        {
          "output_type": "stream",
          "text": [
            "/usr/local/lib/python3.6/dist-packages/keras/datasets/imdb.py:49: UserWarning: The `nb_words` argument in `load_data` has been renamed `num_words`.\n",
            "  warnings.warn('The `nb_words` argument in `load_data` '\n"
          ],
          "name": "stderr"
        },
        {
          "output_type": "stream",
          "text": [
            "Downloading data from https://s3.amazonaws.com/text-datasets/imdb.npz\n",
            "17465344/17464789 [==============================] - 3s 0us/step\n"
          ],
          "name": "stdout"
        }
      ]
    },
    {
      "metadata": {
        "id": "Xe0m2PoCp0E7",
        "colab_type": "code",
        "colab": {
          "autoexec": {
            "startup": false,
            "wait_interval": 0
          },
          "base_uri": "https://localhost:8080/",
          "height": 122
        },
        "outputId": "048dc4e0-5c7e-4039-a3b0-679b5db1b08b",
        "executionInfo": {
          "status": "ok",
          "timestamp": 1532425130035,
          "user_tz": -330,
          "elapsed": 974,
          "user": {
            "displayName": "Vivek Kumar",
            "photoUrl": "//lh6.googleusercontent.com/-M_uuoLvcedc/AAAAAAAAAAI/AAAAAAAAASo/dW13zAextDg/s50-c-k-no/photo.jpg",
            "userId": "112122627751315204755"
          }
        }
      },
      "cell_type": "code",
      "source": [
        "print(X_train[1])\n",
        "print(type(X_train[1]))\n",
        "print(len(X_train[1]))\n",
        "print(\"-------------------\")\n",
        "print(X_train.shape)"
      ],
      "execution_count": 6,
      "outputs": [
        {
          "output_type": "stream",
          "text": [
            "[1, 194, 1153, 194, 2, 78, 228, 5, 6, 1463, 4369, 2, 134, 26, 4, 715, 8, 118, 1634, 14, 394, 20, 13, 119, 954, 189, 102, 5, 207, 110, 3103, 21, 14, 69, 188, 8, 30, 23, 7, 4, 249, 126, 93, 4, 114, 9, 2300, 1523, 5, 647, 4, 116, 9, 35, 2, 4, 229, 9, 340, 1322, 4, 118, 9, 4, 130, 4901, 19, 4, 1002, 5, 89, 29, 952, 46, 37, 4, 455, 9, 45, 43, 38, 1543, 1905, 398, 4, 1649, 26, 2, 5, 163, 11, 3215, 2, 4, 1153, 9, 194, 775, 7, 2, 2, 349, 2637, 148, 605, 2, 2, 15, 123, 125, 68, 2, 2, 15, 349, 165, 4362, 98, 5, 4, 228, 9, 43, 2, 1157, 15, 299, 120, 5, 120, 174, 11, 220, 175, 136, 50, 9, 4373, 228, 2, 5, 2, 656, 245, 2350, 5, 4, 2, 131, 152, 491, 18, 2, 32, 2, 1212, 14, 9, 6, 371, 78, 22, 625, 64, 1382, 9, 8, 168, 145, 23, 4, 1690, 15, 16, 4, 1355, 5, 28, 6, 52, 154, 462, 33, 89, 78, 285, 16, 145, 95]\n",
            "<class 'list'>\n",
            "189\n",
            "-------------------\n",
            "(25000,)\n"
          ],
          "name": "stdout"
        }
      ]
    },
    {
      "metadata": {
        "id": "idnFS8Czp0E-",
        "colab_type": "text"
      },
      "cell_type": "markdown",
      "source": [
        "### Knowing the IMDB keras data\n",
        "- 50K data of reviews\n",
        "- each review is sequence of words\n",
        "    - x1 = x11,x22... and yi\n",
        "       \n",
        "- First build V = a set or corpus of all the words in all the review\n",
        "    1. for each word compute frequency of the word\n",
        "    2. sort by fequency\n",
        "        - ex\n",
        "            - The = 50K\n",
        "            - a = 40K\n",
        "    3. give Rank to the words, ex. Whenever we see The replace with 1, whenever we see 'a' replace it with 2\n",
        "        - .'. 1 is for most freq words and we will take top 5000 words.\n",
        "        - let a review has a word having rank 5001, discard that word\n",
        "        \n",
        "- let say we have x1= x11,x12...x1,189\n",
        "- x2 = x21,x22,..,x290\n",
        "- so we have words of diff length\n",
        "    - So we will add padding\n",
        "    - so it will convert all x1 to 600 length\n",
        "    - this does prepadding, ie. 0 before and data after till it is 600 dimensional\n",
        "- if review has > 600 words, discard more than 600\n",
        "\n"
      ]
    },
    {
      "metadata": {
        "id": "Upkx16kQp0E-",
        "colab_type": "code",
        "colab": {
          "autoexec": {
            "startup": false,
            "wait_interval": 0
          },
          "base_uri": "https://localhost:8080/",
          "height": 765
        },
        "outputId": "b3d71ba5-470a-4397-84c9-b8477a04356f",
        "executionInfo": {
          "status": "ok",
          "timestamp": 1532425132979,
          "user_tz": -330,
          "elapsed": 2308,
          "user": {
            "displayName": "Vivek Kumar",
            "photoUrl": "//lh6.googleusercontent.com/-M_uuoLvcedc/AAAAAAAAAAI/AAAAAAAAASo/dW13zAextDg/s50-c-k-no/photo.jpg",
            "userId": "112122627751315204755"
          }
        }
      },
      "cell_type": "code",
      "source": [
        "# truncate and/or pad input sequences\n",
        "max_review_length = 600\n",
        "X_train = sequence.pad_sequences(X_train, maxlen=max_review_length)\n",
        "X_test = sequence.pad_sequences(X_test, maxlen=max_review_length)\n",
        "\n",
        "print(X_train.shape)\n",
        "print(X_train[1])"
      ],
      "execution_count": 7,
      "outputs": [
        {
          "output_type": "stream",
          "text": [
            "(25000, 600)\n",
            "[   0    0    0    0    0    0    0    0    0    0    0    0    0    0\n",
            "    0    0    0    0    0    0    0    0    0    0    0    0    0    0\n",
            "    0    0    0    0    0    0    0    0    0    0    0    0    0    0\n",
            "    0    0    0    0    0    0    0    0    0    0    0    0    0    0\n",
            "    0    0    0    0    0    0    0    0    0    0    0    0    0    0\n",
            "    0    0    0    0    0    0    0    0    0    0    0    0    0    0\n",
            "    0    0    0    0    0    0    0    0    0    0    0    0    0    0\n",
            "    0    0    0    0    0    0    0    0    0    0    0    0    0    0\n",
            "    0    0    0    0    0    0    0    0    0    0    0    0    0    0\n",
            "    0    0    0    0    0    0    0    0    0    0    0    0    0    0\n",
            "    0    0    0    0    0    0    0    0    0    0    0    0    0    0\n",
            "    0    0    0    0    0    0    0    0    0    0    0    0    0    0\n",
            "    0    0    0    0    0    0    0    0    0    0    0    0    0    0\n",
            "    0    0    0    0    0    0    0    0    0    0    0    0    0    0\n",
            "    0    0    0    0    0    0    0    0    0    0    0    0    0    0\n",
            "    0    0    0    0    0    0    0    0    0    0    0    0    0    0\n",
            "    0    0    0    0    0    0    0    0    0    0    0    0    0    0\n",
            "    0    0    0    0    0    0    0    0    0    0    0    0    0    0\n",
            "    0    0    0    0    0    0    0    0    0    0    0    0    0    0\n",
            "    0    0    0    0    0    0    0    0    0    0    0    0    0    0\n",
            "    0    0    0    0    0    0    0    0    0    0    0    0    0    0\n",
            "    0    0    0    0    0    0    0    0    0    0    0    0    0    0\n",
            "    0    0    0    0    0    0    0    0    0    0    0    0    0    0\n",
            "    0    0    0    0    0    0    0    0    0    0    0    0    0    0\n",
            "    0    0    0    0    0    0    0    0    0    0    0    0    0    0\n",
            "    0    0    0    0    0    0    0    0    0    0    0    0    0    0\n",
            "    0    0    0    0    0    0    0    0    0    0    0    0    0    0\n",
            "    0    0    0    0    0    0    0    0    0    0    0    0    0    0\n",
            "    0    0    0    0    0    0    0    0    0    0    0    0    0    0\n",
            "    0    0    0    0    0    1  194 1153  194    2   78  228    5    6\n",
            " 1463 4369    2  134   26    4  715    8  118 1634   14  394   20   13\n",
            "  119  954  189  102    5  207  110 3103   21   14   69  188    8   30\n",
            "   23    7    4  249  126   93    4  114    9 2300 1523    5  647    4\n",
            "  116    9   35    2    4  229    9  340 1322    4  118    9    4  130\n",
            " 4901   19    4 1002    5   89   29  952   46   37    4  455    9   45\n",
            "   43   38 1543 1905  398    4 1649   26    2    5  163   11 3215    2\n",
            "    4 1153    9  194  775    7    2    2  349 2637  148  605    2    2\n",
            "   15  123  125   68    2    2   15  349  165 4362   98    5    4  228\n",
            "    9   43    2 1157   15  299  120    5  120  174   11  220  175  136\n",
            "   50    9 4373  228    2    5    2  656  245 2350    5    4    2  131\n",
            "  152  491   18    2   32    2 1212   14    9    6  371   78   22  625\n",
            "   64 1382    9    8  168  145   23    4 1690   15   16    4 1355    5\n",
            "   28    6   52  154  462   33   89   78  285   16  145   95]\n"
          ],
          "name": "stdout"
        }
      ]
    },
    {
      "metadata": {
        "id": "QAvMD124p0FB",
        "colab_type": "text"
      },
      "cell_type": "markdown",
      "source": [
        "why pad ?\n",
        "- we use RNN and LSTM bcz we can have different length inputs. But we are we doing padding here \n",
        "    - ex. let x1 = x11,x12,....x1 189\n",
        "    - x2 = x21,x22,....x2 200\n",
        "    - x3 = x31,x32,....x3 150\n",
        "- initially we will send x1 to the nodes, then x2 and then x3 in every time sequence.\n",
        "    - this is like SGD with batch size 1 which is too slow\n",
        "    - ie. x11 to 1st node , x12 to 2nd node .....\n",
        "- lets say,we perform sgd with batch size =5. \n",
        "    - here x11,x21,x31,x41,x51 to 1st node\n",
        "    - x12,x22,x32,x42,x52 to 2nd node\n",
        "    - to perform batch update we need each of sequence to have same length. \n",
        "- So padding allows batch operation and faster training\n",
        "- For text, we will generally do padding.\n",
        "\n",
        "#### Create model\n",
        "- 1st layer is embedding layer\n",
        "    - Embedding layer takes indices and returns vectors\n",
        "    - they are used a lot in nlp tasks\n",
        "    - for each of our word in review we can represent using 5000-dim one hot encoded vector\n",
        "        - word2vec is an example of embedding\n",
        "        - so it will take a word and give a vector representation of the word\n",
        "    - why to do embedding and not w2v?\n",
        "        - for every word we have static word2vec and we are not learning as per task\n",
        "    - params\n",
        "        - input - 5000\n",
        "        - output - 32\n",
        "        - .'. num of params 160K\n",
        "        - it has 32 activations so we wil get 32 output\n",
        "\n",
        "- LSTM (100) means we have 100 LSTMs\n",
        "    - each of LSTM takes the same 32 dim vector\n",
        "    - each of LSTM generate output\n",
        "    - each LSTM takes 32 dim input gives o/p and has a feedback loop\n",
        "    - params :\n",
        "        - m = 32 inputs and 100 outputs and each giving scalar\n",
        "        - n = total o/p size 100\n",
        "        - #params = 4( nm + n^2 + n)\n",
        "            - last n is for bias\n",
        "            - lstm in keras has by default bias terms\n",
        "            - = 53200\n",
        "- now connect all 100 + 1 bias term to a signmoid to get yi^ which is binary\n",
        "    - params : 101\n",
        "- loss is binary cross entropy"
      ]
    },
    {
      "metadata": {
        "id": "6acVXdm7p0FC",
        "colab_type": "code",
        "colab": {
          "autoexec": {
            "startup": false,
            "wait_interval": 0
          },
          "base_uri": "https://localhost:8080/",
          "height": 255
        },
        "outputId": "7789b512-a76b-4d1c-cab2-ddafd1ee6cd3",
        "executionInfo": {
          "status": "ok",
          "timestamp": 1532425162590,
          "user_tz": -330,
          "elapsed": 864,
          "user": {
            "displayName": "Vivek Kumar",
            "photoUrl": "//lh6.googleusercontent.com/-M_uuoLvcedc/AAAAAAAAAAI/AAAAAAAAASo/dW13zAextDg/s50-c-k-no/photo.jpg",
            "userId": "112122627751315204755"
          }
        }
      },
      "cell_type": "code",
      "source": [
        "# create the model\n",
        "embedding_vector_length = 32\n",
        "model = Sequential()\n",
        "model.add(Embedding(top_words, embedding_vector_length, input_length=max_review_length))\n",
        "model.add(LSTM(100))\n",
        "model.add(Dense(1, activation='sigmoid'))\n",
        "model.compile(loss='binary_crossentropy', optimizer='adam', metrics=['accuracy'])\n",
        "print(model.summary())\n",
        "#Refer: https://datascience.stackexchange.com/questions/10615/number-of-parameters-in-an-lstm-model"
      ],
      "execution_count": 8,
      "outputs": [
        {
          "output_type": "stream",
          "text": [
            "_________________________________________________________________\n",
            "Layer (type)                 Output Shape              Param #   \n",
            "=================================================================\n",
            "embedding_1 (Embedding)      (None, 600, 32)           160000    \n",
            "_________________________________________________________________\n",
            "lstm_1 (LSTM)                (None, 100)               53200     \n",
            "_________________________________________________________________\n",
            "dense_1 (Dense)              (None, 1)                 101       \n",
            "=================================================================\n",
            "Total params: 213,301\n",
            "Trainable params: 213,301\n",
            "Non-trainable params: 0\n",
            "_________________________________________________________________\n",
            "None\n"
          ],
          "name": "stdout"
        }
      ]
    },
    {
      "metadata": {
        "id": "6wlkQXNvp0FF",
        "colab_type": "code",
        "colab": {
          "autoexec": {
            "startup": false,
            "wait_interval": 0
          },
          "base_uri": "https://localhost:8080/",
          "height": 428
        },
        "outputId": "33ce7ed9-17e0-4f5d-c8e7-4a740bb795af",
        "executionInfo": {
          "status": "ok",
          "timestamp": 1532433963865,
          "user_tz": -330,
          "elapsed": 76380,
          "user": {
            "displayName": "Vivek Kumar",
            "photoUrl": "//lh6.googleusercontent.com/-M_uuoLvcedc/AAAAAAAAAAI/AAAAAAAAASo/dW13zAextDg/s50-c-k-no/photo.jpg",
            "userId": "112122627751315204755"
          }
        }
      },
      "cell_type": "code",
      "source": [
        "history = model.fit(X_train, y_train, nb_epoch=10, batch_size=64)\n",
        "# Final evaluation of the model\n",
        "scores = model.evaluate(X_test, y_test, verbose=0)\n",
        "print(\"Accuracy: %.2f%%\" % (scores[1]*100))"
      ],
      "execution_count": 12,
      "outputs": [
        {
          "output_type": "stream",
          "text": [
            "/usr/local/lib/python3.6/dist-packages/keras/models.py:981: UserWarning: The `nb_epoch` argument in `fit` has been renamed `epochs`.\n",
            "  warnings.warn('The `nb_epoch` argument in `fit` '\n"
          ],
          "name": "stderr"
        },
        {
          "output_type": "stream",
          "text": [
            "Epoch 1/10\n",
            "25000/25000 [==============================] - 754s 30ms/step - loss: 0.2870 - acc: 0.8859\n",
            "Epoch 2/10\n",
            "20096/25000 [=======================>......] - ETA: 2:27 - loss: 0.2296 - acc: 0.9102"
          ],
          "name": "stdout"
        },
        {
          "output_type": "stream",
          "text": [
            "25000/25000 [==============================] - 754s 30ms/step - loss: 0.2302 - acc: 0.9098\n",
            "Epoch 3/10\n",
            "25000/25000 [==============================] - 753s 30ms/step - loss: 0.2481 - acc: 0.9004\n",
            "Epoch 4/10\n",
            " 4352/25000 [====>.........................] - ETA: 10:19 - loss: 0.1734 - acc: 0.9373"
          ],
          "name": "stdout"
        },
        {
          "output_type": "stream",
          "text": [
            "25000/25000 [==============================] - 752s 30ms/step - loss: 0.1816 - acc: 0.9323\n",
            "Epoch 5/10\n",
            "24704/25000 [============================>.] - ETA: 8s - loss: 0.1487 - acc: 0.9454 "
          ],
          "name": "stdout"
        },
        {
          "output_type": "stream",
          "text": [
            "25000/25000 [==============================] - 753s 30ms/step - loss: 0.1488 - acc: 0.9453\n",
            "Epoch 6/10\n",
            "25000/25000 [==============================] - 749s 30ms/step - loss: 0.1414 - acc: 0.9486\n",
            "Epoch 7/10\n",
            " 5696/25000 [=====>........................] - ETA: 9:36 - loss: 0.1036 - acc: 0.9628"
          ],
          "name": "stdout"
        },
        {
          "output_type": "stream",
          "text": [
            "25000/25000 [==============================] - 751s 30ms/step - loss: 0.1171 - acc: 0.9589\n",
            "Epoch 8/10\n",
            "25000/25000 [==============================] - 755s 30ms/step - loss: 0.2678 - acc: 0.8851\n",
            "Epoch 9/10\n",
            "  128/25000 [..............................] - ETA: 12:20 - loss: 0.4913 - acc: 0.7344"
          ],
          "name": "stdout"
        },
        {
          "output_type": "stream",
          "text": [
            "25000/25000 [==============================] - 756s 30ms/step - loss: 0.3090 - acc: 0.8634\n",
            "Epoch 10/10\n",
            "22656/25000 [==========================>...] - ETA: 1:10 - loss: 0.1614 - acc: 0.9378"
          ],
          "name": "stdout"
        },
        {
          "output_type": "stream",
          "text": [
            "25000/25000 [==============================] - 750s 30ms/step - loss: 0.1617 - acc: 0.9380\n",
            "Accuracy: 86.09%\n"
          ],
          "name": "stdout"
        }
      ]
    },
    {
      "metadata": {
        "id": "ogi4dO60L2bb",
        "colab_type": "code",
        "colab": {
          "autoexec": {
            "startup": false,
            "wait_interval": 0
          },
          "base_uri": "https://localhost:8080/",
          "height": 240
        },
        "outputId": "2ad1fba5-5011-4255-da6a-51a67873d1a4",
        "executionInfo": {
          "status": "ok",
          "timestamp": 1532435539004,
          "user_tz": -330,
          "elapsed": 1215,
          "user": {
            "displayName": "Vivek Kumar",
            "photoUrl": "//lh6.googleusercontent.com/-M_uuoLvcedc/AAAAAAAAAAI/AAAAAAAAASo/dW13zAextDg/s50-c-k-no/photo.jpg",
            "userId": "112122627751315204755"
          }
        }
      },
      "cell_type": "code",
      "source": [
        "epochs_list = list(range(1,11))\n",
        "import matplotlib.pyplot as plt\n",
        "train_acc = history.history['acc']\n",
        "train_loss = history.history['loss']\n",
        "\n",
        "plt.figure(figsize=(5,3))\n",
        "plt.plot(epochs_list,train_loss,label=\"train loss\")\n",
        "plt.xlabel(\" Epochs \")\n",
        "plt.ylabel(\" Loss \")\n",
        "plt.legend()\n",
        "plt.title(\" 5x5 Simple model : Loss vs epochs\")\n",
        "plt.show()"
      ],
      "execution_count": 17,
      "outputs": [
        {
          "output_type": "display_data",
          "data": {
            "image/png": "[encoded data removed]",
            "text/plain": [
              "<matplotlib.figure.Figure at 0x7f386290b908>"
            ]
          },
          "metadata": {
            "tags": []
          }
        }
      ]
    },
    {
      "metadata": {
        "id": "epF0iNLWL2VZ",
        "colab_type": "code",
        "colab": {
          "autoexec": {
            "startup": false,
            "wait_interval": 0
          },
          "base_uri": "https://localhost:8080/",
          "height": 34
        },
        "outputId": "7318d97b-1840-4931-bc0c-212ea286566f",
        "executionInfo": {
          "status": "ok",
          "timestamp": 1532435514946,
          "user_tz": -330,
          "elapsed": 769,
          "user": {
            "displayName": "Vivek Kumar",
            "photoUrl": "//lh6.googleusercontent.com/-M_uuoLvcedc/AAAAAAAAAAI/AAAAAAAAASo/dW13zAextDg/s50-c-k-no/photo.jpg",
            "userId": "112122627751315204755"
          }
        }
      },
      "cell_type": "code",
      "source": [
        "history.history.keys()"
      ],
      "execution_count": 16,
      "outputs": [
        {
          "output_type": "execute_result",
          "data": {
            "text/plain": [
              "dict_keys(['loss', 'acc'])"
            ]
          },
          "metadata": {
            "tags": []
          },
          "execution_count": 16
        }
      ]
    },
    {
      "metadata": {
        "id": "SdoA7bmDp0FI",
        "colab_type": "text"
      },
      "cell_type": "markdown",
      "source": [
        "Note: Each LSTM cell may learn something diff in data"
      ]
    }
  ]
}